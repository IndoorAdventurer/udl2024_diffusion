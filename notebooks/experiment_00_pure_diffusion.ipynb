{
 "cells": [
  {
   "cell_type": "markdown",
   "metadata": {},
   "source": [
    "# Experiment 00 Pure Diffusion\n",
    "The first out of 3 related experiments. Here, I (pre-)train a diffusion model.\n",
    "\n",
    "After this, I will use this model in experiment 3 as base-model to fine-tune with\n",
    "a GAN-based optimization target."
   ]
  },
  {
   "cell_type": "code",
   "execution_count": null,
   "metadata": {},
   "outputs": [],
   "source": [
    "# imports\n",
    "\n",
    "# pretend we are in the root folder:\n",
    "import os\n",
    "import sys\n",
    "sys.path.append(\"../\")\n",
    "\n",
    "from udl_2024_package.nn import unet_factory\n",
    "from udl_2024_package.vincent_diffusion import DiffusionModel\n",
    "from udl_2024_package.datasets import remove_dataset_labels, default_img_transforms\n",
    "\n",
    "import torch\n",
    "from torchvision import datasets\n",
    "from torch.utils.data import DataLoader\n",
    "\n",
    "import lightning as L\n",
    "from lightning.pytorch.loggers import WandbLogger\n",
    "from lightning.pytorch.callbacks import ModelCheckpoint\n",
    "import wandb\n"
   ]
  },
  {
   "cell_type": "markdown",
   "metadata": {},
   "source": [
    "Experiment configuration and hyper-parameters:"
   ]
  },
  {
   "cell_type": "code",
   "execution_count": null,
   "metadata": {},
   "outputs": [],
   "source": [
    "# WandB config:\n",
    "project_name = \"udl_2025_diffusion_gan\"\n",
    "group_name = \"experiment_00_pure_diffusion\"\n",
    "\n",
    "config = {\n",
    "    # Input data and training:\n",
    "    \"batch_size\": 256,          # Warning: change to 256 for real run\n",
    "    \n",
    "    \"dataset_cls\": datasets.CIFAR10,\n",
    "        \"ds_name\": \"cifar10\",   # Warning: change when changing dataset\n",
    "        \"num_channels\": 3,      # Warning: change when changing dataset\n",
    "        \"img_size\": 32,         # Warning: change when changing dataset\n",
    "        \"extra_transforms\": [], # Warning: change when changing dataset\n",
    "\n",
    "    # \"dataset_cls\": datasets.MNIST,\n",
    "    #     \"ds_name\": \"mnist\",     # Warning: change when changing dataset\n",
    "    #     \"num_channels\": 1,      # Warning: change when changing dataset\n",
    "    #     \"img_size\": 32,         # Warning: change when changing dataset\n",
    "    #     \"extra_transforms\": [   # Warning: change when changing dataset\n",
    "    #         transforms.Resize(32)\n",
    "    #     ],\n",
    "    \n",
    "    \"max_epochs\": 150,\n",
    "    \"dl_num_workers\": 4,\n",
    "\n",
    "    # Diffusion model (DDPM paper defaults):\n",
    "    \"optimizer_cls\": torch.optim.Adam,\n",
    "    \"optimizer_args\": {\"lr\": 2e-4},\n",
    "    \"ddpm_steps\": 1000,\n",
    "    \"ddpm_beta_start\": 0.0001,\n",
    "    \"ddpm_beta_end\": 0.02,\n",
    "\n",
    "    # U-Net config:\n",
    "    \"block_out_channels\": [128, 256, 256, 256],\n",
    "    \"layers_per_block\": 2\n",
    "}\n",
    "\n",
    "datasets_path = os.path.join(os.environ.get(\"TMPDIR\", os.curdir), \"datasets\")\n",
    "\n",
    "dataloader_kwargs = {\n",
    "    \"batch_size\": config[\"batch_size\"],\n",
    "    \"shuffle\": True,\n",
    "    \"num_workers\": config[\"dl_num_workers\"],\n",
    "    \"pin_memory\": True,\n",
    "}"
   ]
  },
  {
   "cell_type": "markdown",
   "metadata": {},
   "source": [
    "Getting the dataloaders"
   ]
  },
  {
   "cell_type": "code",
   "execution_count": 6,
   "metadata": {},
   "outputs": [],
   "source": [
    "ds_transforms = default_img_transforms(config[\"num_channels\"])\n",
    "\n",
    "train_ds = config[\"dataset_cls\"](datasets_path, transform=ds_transforms, download=True, train=True)\n",
    "val_ds   = config[\"dataset_cls\"](datasets_path, transform=ds_transforms, download=True, train=False)\n",
    "\n",
    "train_ds = remove_dataset_labels(train_ds)\n",
    "val_ds   = remove_dataset_labels(val_ds)\n",
    "\n",
    "train_dl = DataLoader(train_ds, **dataloader_kwargs)\n",
    "val_dl   = DataLoader(val_ds, **dataloader_kwargs)"
   ]
  },
  {
   "cell_type": "markdown",
   "metadata": {},
   "source": [
    "Setting up WandB"
   ]
  },
  {
   "cell_type": "code",
   "execution_count": 7,
   "metadata": {},
   "outputs": [
    {
     "name": "stderr",
     "output_type": "stream",
     "text": [
      "\u001b[34m\u001b[1mwandb\u001b[0m: Logging into wandb.ai. (Learn how to deploy a W&B server locally: https://wandb.me/wandb-server)\n",
      "\u001b[34m\u001b[1mwandb\u001b[0m: You can find your API key in your browser here: https://wandb.ai/authorize\n",
      "\u001b[34m\u001b[1mwandb\u001b[0m: Paste an API key from your profile and hit enter:"
     ]
    },
    {
     "name": "stdout",
     "output_type": "stream",
     "text": [
      "  ········\n"
     ]
    },
    {
     "name": "stderr",
     "output_type": "stream",
     "text": [
      "\u001b[34m\u001b[1mwandb\u001b[0m: \u001b[33mWARNING\u001b[0m If you're specifying your api key in code, ensure this code is not shared publicly.\n",
      "\u001b[34m\u001b[1mwandb\u001b[0m: \u001b[33mWARNING\u001b[0m Consider setting the WANDB_API_KEY environment variable, or running `wandb login` from the command line.\n",
      "\u001b[34m\u001b[1mwandb\u001b[0m: Appending key for api.wandb.ai to your netrc file: /home/vincent/.netrc\n",
      "\u001b[34m\u001b[1mwandb\u001b[0m: Currently logged in as: \u001b[33mindooradventurer\u001b[0m to \u001b[32mhttps://api.wandb.ai\u001b[0m. Use \u001b[1m`wandb login --relogin`\u001b[0m to force relogin\n",
      "\u001b[34m\u001b[1mwandb\u001b[0m: Using wandb-core as the SDK backend.  Please refer to https://wandb.me/wandb-core for more information.\n"
     ]
    },
    {
     "data": {
      "text/html": [
       "Tracking run with wandb version 0.19.6"
      ],
      "text/plain": [
       "<IPython.core.display.HTML object>"
      ]
     },
     "metadata": {},
     "output_type": "display_data"
    },
    {
     "data": {
      "text/html": [
       "Run data is saved locally in <code>/home/vincent/Documenten/unsupervised_deep_learning/udl2024_diffusion/notebooks/wandb/run-20250216_193903-zfxm67ka</code>"
      ],
      "text/plain": [
       "<IPython.core.display.HTML object>"
      ]
     },
     "metadata": {},
     "output_type": "display_data"
    },
    {
     "data": {
      "text/html": [
       "Syncing run <strong><a href='https://wandb.ai/indooradventurer/udl_2025_diffusion_gan/runs/zfxm67ka' target=\"_blank\">eternal-glitter-1</a></strong> to <a href='https://wandb.ai/indooradventurer/udl_2025_diffusion_gan' target=\"_blank\">Weights & Biases</a> (<a href='https://wandb.me/developer-guide' target=\"_blank\">docs</a>)<br>"
      ],
      "text/plain": [
       "<IPython.core.display.HTML object>"
      ]
     },
     "metadata": {},
     "output_type": "display_data"
    },
    {
     "data": {
      "text/html": [
       " View project at <a href='https://wandb.ai/indooradventurer/udl_2025_diffusion_gan' target=\"_blank\">https://wandb.ai/indooradventurer/udl_2025_diffusion_gan</a>"
      ],
      "text/plain": [
       "<IPython.core.display.HTML object>"
      ]
     },
     "metadata": {},
     "output_type": "display_data"
    },
    {
     "data": {
      "text/html": [
       " View run at <a href='https://wandb.ai/indooradventurer/udl_2025_diffusion_gan/runs/zfxm67ka' target=\"_blank\">https://wandb.ai/indooradventurer/udl_2025_diffusion_gan/runs/zfxm67ka</a>"
      ],
      "text/plain": [
       "<IPython.core.display.HTML object>"
      ]
     },
     "metadata": {},
     "output_type": "display_data"
    }
   ],
   "source": [
    "run = wandb.init(\n",
    "    project=project_name,\n",
    "    group=group_name,\n",
    "    config=config,\n",
    ")\n",
    "\n",
    "wandb_logger = WandbLogger(\n",
    "    experiment=run,\n",
    ")"
   ]
  },
  {
   "cell_type": "markdown",
   "metadata": {},
   "source": [
    "Lightning Callback functions"
   ]
  },
  {
   "cell_type": "code",
   "execution_count": 8,
   "metadata": {},
   "outputs": [],
   "source": [
    "checkpoint_callback = ModelCheckpoint(\n",
    "    dirpath=f\"{group_name}_models\",\n",
    "    filename=f\"{config['ds_name']}_{run.name}_epoch{{epoch}}\",\n",
    "    every_n_epochs=5,\n",
    "    save_top_k=-1\n",
    ")\n",
    "\n",
    "class LogImageSample(L.Callback):\n",
    "    \"\"\"Logs a batch of 4 images to WandB.\"\"\"\n",
    "\n",
    "    def __init__(self, logger: WandbLogger, config: dict[str, any]):\n",
    "        super().__init__()\n",
    "        self.logger = logger\n",
    "        self.channels = config[\"num_channels\"]\n",
    "        self.img_size = config[\"img_size\"]\n",
    "    \n",
    "    def on_validation_end(self, trainer, pl_module: DiffusionModel):\n",
    "        sample = pl_module.sample_img(\n",
    "            (4, self.channels, self.img_size, self.img_size))\n",
    "        sample = sample.detach().cpu() * 0.5 + 0.5\n",
    "        self.logger.log_image(\n",
    "            key=\"generated images\",\n",
    "            images=[img for img in sample]\n",
    "        )\n",
    "\n",
    "log_img_callback = LogImageSample(wandb_logger, config)"
   ]
  },
  {
   "cell_type": "markdown",
   "metadata": {},
   "source": [
    "Setting up the model and the trainer"
   ]
  },
  {
   "cell_type": "code",
   "execution_count": null,
   "metadata": {},
   "outputs": [
    {
     "name": "stderr",
     "output_type": "stream",
     "text": [
      "GPU available: True (cuda), used: True\n",
      "TPU available: False, using: 0 TPU cores\n",
      "HPU available: False, using: 0 HPUs\n"
     ]
    }
   ],
   "source": [
    "unet = unet_factory(\n",
    "    img_size=config[\"img_size\"],\n",
    "    img_channels=config[\"num_channels\"],\n",
    "    block_out_channels=config[\"block_out_channels\"],\n",
    "    layers_per_block=config[\"layers_per_block\"]\n",
    ")\n",
    "\n",
    "model = DiffusionModel(\n",
    "    unet,\n",
    "    optimizer_cls=config[\"optimizer_cls\"],\n",
    "    optimizer_args=config[\"optimizer_args\"],\n",
    "    steps=config[\"ddpm_steps\"],\n",
    "    beta_start=config[\"ddpm_beta_start\"],\n",
    "    beta_end=config[\"ddpm_beta_end\"],\n",
    ")\n",
    "\n",
    "trainer = L.Trainer(\n",
    "    max_epochs=config[\"max_epochs\"],\n",
    "    logger=wandb_logger,\n",
    "    callbacks=[\n",
    "        checkpoint_callback,\n",
    "        log_img_callback\n",
    "    ],\n",
    ")"
   ]
  },
  {
   "cell_type": "markdown",
   "metadata": {},
   "source": [
    "Doing the actual training run"
   ]
  },
  {
   "cell_type": "code",
   "execution_count": null,
   "metadata": {},
   "outputs": [
    {
     "name": "stderr",
     "output_type": "stream",
     "text": [
      "You are using a CUDA device ('NVIDIA GeForce RTX 3060 Laptop GPU') that has Tensor Cores. To properly utilize them, you should set `torch.set_float32_matmul_precision('medium' | 'high')` which will trade-off precision for performance. For more details, read https://pytorch.org/docs/stable/generated/torch.set_float32_matmul_precision.html#torch.set_float32_matmul_precision\n",
      "LOCAL_RANK: 0 - CUDA_VISIBLE_DEVICES: [0]\n",
      "\n",
      "  | Name   | Type            | Params | Mode \n",
      "---------------------------------------------------\n",
      "0 | model  | DiffusersUnet   | 35.7 M | train\n",
      "1 | noiser | DiffusionNoiser | 0      | train\n",
      "---------------------------------------------------\n",
      "35.7 M    Trainable params\n",
      "0         Non-trainable params\n",
      "35.7 M    Total params\n",
      "142.985   Total estimated model params size (MB)\n",
      "267       Modules in train mode\n",
      "0         Modules in eval mode\n"
     ]
    },
    {
     "name": "stdout",
     "output_type": "stream",
     "text": [
      "Sanity Checking: |                                        | 0/? [00:00<?, ?it/s]"
     ]
    },
    {
     "name": "stderr",
     "output_type": "stream",
     "text": [
      "/home/vincent/miniforge3/envs/pytorch_base/lib/python3.12/site-packages/lightning/pytorch/trainer/connectors/data_connector.py:476: Your `val_dataloader`'s sampler has shuffling enabled, it is strongly recommended that you turn shuffling off for val/test dataloaders.\n"
     ]
    },
    {
     "name": "stdout",
     "output_type": "stream",
     "text": [
      "Sanity Checking DataLoader 0: 100%|███████████████| 2/2 [00:00<00:00,  3.86it/s]"
     ]
    }
   ],
   "source": [
    "trainer.fit(model, train_dl, val_dl)"
   ]
  }
 ],
 "metadata": {
  "kernelspec": {
   "display_name": "pytorch_base",
   "language": "python",
   "name": "python3"
  },
  "language_info": {
   "codemirror_mode": {
    "name": "ipython",
    "version": 3
   },
   "file_extension": ".py",
   "mimetype": "text/x-python",
   "name": "python",
   "nbconvert_exporter": "python",
   "pygments_lexer": "ipython3",
   "version": "3.12.8"
  }
 },
 "nbformat": 4,
 "nbformat_minor": 4
}
