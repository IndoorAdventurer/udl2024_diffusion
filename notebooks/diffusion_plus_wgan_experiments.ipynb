{
 "cells": [
  {
   "cell_type": "markdown",
   "metadata": {},
   "source": [
    "# Diffusion + WGAN experiments\n",
    "This is the main script for experiments related to combining diffusion with\n",
    "WGAN-based loss within the same training loop."
   ]
  },
  {
   "cell_type": "code",
   "execution_count": null,
   "metadata": {},
   "outputs": [
    {
     "name": "stderr",
     "output_type": "stream",
     "text": [
      "/home/vincent/miniforge3/envs/pytorch_base/lib/python3.12/site-packages/tqdm/auto.py:21: TqdmWarning: IProgress not found. Please update jupyter and ipywidgets. See https://ipywidgets.readthedocs.io/en/stable/user_install.html\n",
      "  from .autonotebook import tqdm as notebook_tqdm\n"
     ]
    }
   ],
   "source": [
    "# imports\n",
    "\n",
    "# pretend we are in the root folder:\n",
    "import sys\n",
    "sys.path.append(\"../\")\n",
    "\n",
    "from udl_module.datasets import dataset_factory\n",
    "from udl_module.nn import unet_factory\n",
    "from udl_module.vincent_diffusion import DiffusionModel\n",
    "\n",
    "import torch\n",
    "from torch.utils.data import DataLoader\n",
    "from torchvision.datasets import CIFAR10, MNIST\n",
    "\n",
    "import lightning as L"
   ]
  },
  {
   "cell_type": "markdown",
   "metadata": {},
   "source": [
    "## Development\n",
    "Will paste stuff above once it works :-)"
   ]
  },
  {
   "cell_type": "code",
   "execution_count": 2,
   "metadata": {},
   "outputs": [],
   "source": [
    "# Creating the datasets:\n",
    "\n",
    "trainset, testset = dataset_factory(CIFAR10)\n",
    "\n",
    "batch_size = 32\n",
    "dl_kwargs = {\n",
    "    \"batch_size\": batch_size, \"shuffle\": True, \"num_workers\": 4, \"pin_memory\": True,\n",
    "}\n",
    "\n",
    "trainloader = DataLoader(\n",
    "    trainset, **dl_kwargs\n",
    ")\n",
    "testloader = DataLoader(\n",
    "    testset, **dl_kwargs\n",
    ")"
   ]
  },
  {
   "cell_type": "code",
   "execution_count": 3,
   "metadata": {},
   "outputs": [],
   "source": [
    "# Creating the model:\n",
    "\n",
    "model = DiffusionModel(\n",
    "    unet_factory()\n",
    ")"
   ]
  },
  {
   "cell_type": "code",
   "execution_count": null,
   "metadata": {},
   "outputs": [
    {
     "name": "stderr",
     "output_type": "stream",
     "text": [
      "GPU available: True (cuda), used: True\n",
      "TPU available: False, using: 0 TPU cores\n",
      "HPU available: False, using: 0 HPUs\n",
      "You are using a CUDA device ('NVIDIA GeForce RTX 3060 Laptop GPU') that has Tensor Cores. To properly utilize them, you should set `torch.set_float32_matmul_precision('medium' | 'high')` which will trade-off precision for performance. For more details, read https://pytorch.org/docs/stable/generated/torch.set_float32_matmul_precision.html#torch.set_float32_matmul_precision\n",
      "LOCAL_RANK: 0 - CUDA_VISIBLE_DEVICES: [0]\n"
     ]
    },
    {
     "name": "stderr",
     "output_type": "stream",
     "text": [
      "\n",
      "  | Name   | Type            | Params | Mode \n",
      "---------------------------------------------------\n",
      "0 | model  | DiffusersUnet   | 35.7 M | train\n",
      "1 | noiser | DiffusionNoiser | 0      | train\n",
      "---------------------------------------------------\n",
      "35.7 M    Trainable params\n",
      "0         Non-trainable params\n",
      "35.7 M    Total params\n",
      "142.985   Total estimated model params size (MB)\n",
      "267       Modules in train mode\n",
      "0         Modules in eval mode\n"
     ]
    },
    {
     "name": "stdout",
     "output_type": "stream",
     "text": [
      "Sanity Checking: |          | 0/? [00:00<?, ?it/s]"
     ]
    },
    {
     "name": "stderr",
     "output_type": "stream",
     "text": [
      "/home/vincent/miniforge3/envs/pytorch_base/lib/python3.12/site-packages/lightning/pytorch/trainer/connectors/data_connector.py:476: Your `val_dataloader`'s sampler has shuffling enabled, it is strongly recommended that you turn shuffling off for val/test dataloaders.\n"
     ]
    },
    {
     "name": "stdout",
     "output_type": "stream",
     "text": [
      "Epoch 0:  95%|█████████▌| 1489/1563 [04:59<00:14,  4.96it/s, train/mse=0.066] "
     ]
    },
    {
     "name": "stderr",
     "output_type": "stream",
     "text": [
      "Time limit reached. Elapsed time is 0:05:00. Signaling Trainer to stop.\n"
     ]
    },
    {
     "name": "stdout",
     "output_type": "stream",
     "text": [
      "Epoch 0:  95%|█████████▌| 1490/1563 [05:20<00:15,  4.65it/s, train/mse=0.026]\n"
     ]
    }
   ],
   "source": [
    "# Training the model:\n",
    "\n",
    "\n",
    "# Setting up the trainer\n",
    "trainer = L.Trainer(\n",
    "    max_time={\"minutes\": 5},\n",
    "    enable_checkpointing=False,\n",
    "    logger=False,\n",
    "    enable_progress_bar=True\n",
    ")\n",
    "\n",
    "trainer.fit(model, dataloader)"
   ]
  }
 ],
 "metadata": {
  "kernelspec": {
   "display_name": "pytorch_base",
   "language": "python",
   "name": "python3"
  },
  "language_info": {
   "codemirror_mode": {
    "name": "ipython",
    "version": 3
   },
   "file_extension": ".py",
   "mimetype": "text/x-python",
   "name": "python",
   "nbconvert_exporter": "python",
   "pygments_lexer": "ipython3",
   "version": "3.12.8"
  }
 },
 "nbformat": 4,
 "nbformat_minor": 2
}
