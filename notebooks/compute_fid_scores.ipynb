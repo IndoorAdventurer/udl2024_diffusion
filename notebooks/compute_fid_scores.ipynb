{
 "cells": [
  {
   "cell_type": "markdown",
   "metadata": {},
   "source": [
    "# FID Calculator\n",
    "Notebook to compute FID scores for different models. When comparing training\n",
    "and validation set, I get an FID score of 3.1503. When look at the outputs of the\n",
    "last checkpoint of the diffusion model I trained, I get an FID score of 120.7927\n",
    "(see last few cells)."
   ]
  },
  {
   "cell_type": "code",
   "execution_count": 37,
   "metadata": {},
   "outputs": [],
   "source": [
    "import os\n",
    "import sys\n",
    "sys.path.append(\"../\")\n",
    "\n",
    "from udl_2024_package.datasets import remove_dataset_labels, default_img_transforms\n",
    "from udl_2024_package.nn import unet_factory, SimpleDiscriminator\n",
    "from udl_2024_package.vincent_wgan import WGANWithGradientPenalty\n",
    "from udl_2024_package.vincent_diffusion import DiffusionModel\n",
    "\n",
    "from torchmetrics.image.fid import FrechetInceptionDistance\n",
    "import torch\n",
    "from torchvision import datasets\n",
    "from torchvision.transforms import transforms\n",
    "from torch.utils.data import DataLoader\n",
    "\n",
    "from tqdm import tqdm\n",
    "\n",
    "import pandas as pd\n",
    "import re"
   ]
  },
  {
   "cell_type": "code",
   "execution_count": 38,
   "metadata": {},
   "outputs": [],
   "source": [
    "# WandB config:\n",
    "project_name = \"udl_2025_diffusion_gan\"\n",
    "group_name = \"experiment_02_wgan_finetune\"\n",
    "\n",
    "checkpoint_dir = \"./experiment_02_wgan_finetune_models/\"\n",
    "\n",
    "config = {\n",
    "    # Input data and training:\n",
    "    \"batch_size\": 64,\n",
    "    \n",
    "    \"dataset_cls\": datasets.CIFAR10,\n",
    "        \"ds_name\": \"cifar10\",   # Warning: change when changing dataset\n",
    "        \"num_channels\": 3,      # Warning: change when changing dataset\n",
    "        \"img_size\": 32,         # Warning: change when changing dataset\n",
    "        \"extra_transforms\": [], # Warning: change when changing dataset\n",
    "\n",
    "    # \"dataset_cls\": datasets.MNIST,\n",
    "    #     \"ds_name\": \"mnist\",     # Warning: change when changing dataset\n",
    "    #     \"num_channels\": 1,      # Warning: change when changing dataset\n",
    "    #     \"img_size\": 32,         # Warning: change when changing dataset\n",
    "    #     \"extra_transforms\": [   # Warning: change when changing dataset\n",
    "    #         transforms.Resize(32)\n",
    "    #     ],\n",
    "    \n",
    "    \"max_epochs\": 150,\n",
    "    \"dl_num_workers\": 4,\n",
    "\n",
    "    # WGAN model (WGAN-GP paper defaults):\n",
    "    \"optimizer_cls\": torch.optim.Adam,\n",
    "    \"optimizer_args\": { \"lr\": 1e-4, \"betas\": (0.5, 0.99) },\n",
    "    \"gp_weight\": 10,\n",
    "    \"critic_iterations\": 5,\n",
    "    \"lr_scaling_factor\": 0.2,\n",
    "\n",
    "    # DDPM values (not really used, but for loading checkpoint):\n",
    "    \"ddpm_steps\": 1000,\n",
    "    \"ddpm_beta_start\": 0.0001,\n",
    "    \"ddpm_beta_end\": 0.02,\n",
    "\n",
    "    # U-Net config:\n",
    "    \"block_out_channels\": [128, 256, 256, 256],\n",
    "    \"layers_per_block\": 2,\n",
    "\n",
    "    # Starting point for training:\n",
    "    \"unet_checkpoint\": \"./cifar10_peachy-totem-7_epochepoch=94.ckpt\",\n",
    "\n",
    "    # Critic config:\n",
    "    \"cri_channel_list\": [128] * 4,\n",
    "    \"cri_kernel_list\": [3] * 4,\n",
    "    \"cri_downsample_list\": [True] * 2 + [False] * 2\n",
    "}\n",
    "\n",
    "datasets_path = os.path.join(os.environ.get(\"TMPDIR\", os.curdir), \"datasets\")\n",
    "\n",
    "dataloader_kwargs = {\n",
    "    \"batch_size\": config[\"batch_size\"],\n",
    "    \"shuffle\": True,\n",
    "    \"num_workers\": config[\"dl_num_workers\"],\n",
    "    \"pin_memory\": True,\n",
    "}"
   ]
  },
  {
   "cell_type": "code",
   "execution_count": 39,
   "metadata": {},
   "outputs": [],
   "source": [
    "ds_transforms = default_img_transforms(config[\"num_channels\"], ) # [transforms.Resize((299,299))])\n",
    "train_ds = config[\"dataset_cls\"](datasets_path, transform=ds_transforms, download=True, train=True)\n",
    "train_ds = remove_dataset_labels(train_ds)\n",
    "train_dl = DataLoader(train_ds, **dataloader_kwargs)"
   ]
  },
  {
   "cell_type": "code",
   "execution_count": 40,
   "metadata": {},
   "outputs": [
    {
     "name": "stderr",
     "output_type": "stream",
     "text": [
      "100%|██████████| 782/782 [01:57<00:00,  6.66it/s]\n"
     ]
    }
   ],
   "source": [
    "# Set up FID and load in dataset\n",
    "fid = FrechetInceptionDistance(\n",
    "    normalize=True, input_img_size=(3,32,32),\n",
    "    reset_real_features=False).to(\"cuda\")\n",
    "for batch in tqdm(train_dl):\n",
    "    batch = batch.to(\"cuda\") * 0.5 + 0.5\n",
    "    fid.update(batch, True)"
   ]
  },
  {
   "cell_type": "markdown",
   "metadata": {},
   "source": [
    "## Computing FID Scores for WGAN models"
   ]
  },
  {
   "cell_type": "code",
   "execution_count": 41,
   "metadata": {},
   "outputs": [],
   "source": [
    "# Function to load checkpoint and return the generator:\n",
    "\n",
    "def generate_samples(generator, real_batch):\n",
    "    noise = torch.randn_like(real_batch)\n",
    "    ts = torch.full((len(real_batch),), 999, device=real_batch.device)\n",
    "    return generator(noise, ts)\n",
    "\n",
    "def load_checkpoint(path):\n",
    "    unet = unet_factory(\n",
    "        img_size=config[\"img_size\"],\n",
    "        img_channels=config[\"num_channels\"],\n",
    "        block_out_channels=config[\"block_out_channels\"],\n",
    "        layers_per_block=config[\"layers_per_block\"]\n",
    "    )\n",
    "\n",
    "    critic = SimpleDiscriminator(\n",
    "        in_channels=config[\"num_channels\"],\n",
    "        channel_list=config[\"cri_channel_list\"],\n",
    "        kernel_list=config[\"cri_kernel_list\"],\n",
    "        downsample_list=config[\"cri_downsample_list\"]\n",
    "    )\n",
    "\n",
    "    model = WGANWithGradientPenalty.load_from_checkpoint(\n",
    "        path,\n",
    "        generator=unet,\n",
    "        critic=critic,\n",
    "        generator_func=generate_samples,\n",
    "        optimizer_cls=config[\"optimizer_cls\"],\n",
    "        optimizer_args=config[\"optimizer_args\"],\n",
    "        gp_weight=config[\"gp_weight\"],\n",
    "        critic_iterations=config[\"critic_iterations\"],\n",
    "        lr_scaling_factor=config[\"lr_scaling_factor\"]\n",
    "    )\n",
    "    return model.gen.to(\"cuda\")"
   ]
  },
  {
   "cell_type": "code",
   "execution_count": 42,
   "metadata": {},
   "outputs": [
    {
     "name": "stdout",
     "output_type": "stream",
     "text": [
      "DOING FOLDER: ./experiment_02_wgan_finetune_models/\n",
      "--------------------------------------------------------------------------------\n",
      "./experiment_02_wgan_finetune_models/cifar10_genial-surf-2_epochepoch=9.ckpt\n"
     ]
    },
    {
     "name": "stderr",
     "output_type": "stream",
     "text": [
      "100%|██████████| 40/40 [00:03<00:00, 12.59it/s]\n"
     ]
    },
    {
     "name": "stdout",
     "output_type": "stream",
     "text": [
      "219.41763305664062\n",
      "--------------------------------------------------------------------------------\n",
      "./experiment_02_wgan_finetune_models/cifar10_genial-surf-2_epochepoch=24.ckpt\n"
     ]
    },
    {
     "name": "stderr",
     "output_type": "stream",
     "text": [
      "100%|██████████| 40/40 [00:03<00:00, 13.11it/s]\n"
     ]
    },
    {
     "name": "stdout",
     "output_type": "stream",
     "text": [
      "140.16845703125\n",
      "--------------------------------------------------------------------------------\n",
      "./experiment_02_wgan_finetune_models/cifar10_genial-surf-2_epochepoch=14.ckpt\n"
     ]
    },
    {
     "name": "stderr",
     "output_type": "stream",
     "text": [
      "100%|██████████| 40/40 [00:03<00:00, 13.20it/s]\n"
     ]
    },
    {
     "name": "stdout",
     "output_type": "stream",
     "text": [
      "168.15330505371094\n",
      "--------------------------------------------------------------------------------\n",
      "./experiment_02_wgan_finetune_models/cifar10_genial-surf-2_epochepoch=4.ckpt\n"
     ]
    },
    {
     "name": "stderr",
     "output_type": "stream",
     "text": [
      "100%|██████████| 40/40 [00:03<00:00, 13.21it/s]\n"
     ]
    },
    {
     "name": "stdout",
     "output_type": "stream",
     "text": [
      "258.94268798828125\n",
      "--------------------------------------------------------------------------------\n",
      "./experiment_02_wgan_finetune_models/cifar10_genial-surf-2_epochepoch=19.ckpt\n"
     ]
    },
    {
     "name": "stderr",
     "output_type": "stream",
     "text": [
      "100%|██████████| 40/40 [00:03<00:00, 12.97it/s]\n"
     ]
    },
    {
     "name": "stdout",
     "output_type": "stream",
     "text": [
      "153.2974853515625\n",
      "\n",
      "\n",
      "\n"
     ]
    }
   ],
   "source": [
    "def compute_from_folder(checkpoint_dir: str):\n",
    "    print(\"DOING FOLDER: \" + checkpoint_dir)\n",
    "    # Loading checkpoints from folder:\n",
    "    checkpoints = [\n",
    "        os.path.join(checkpoint_dir, f)\n",
    "            for f in os.listdir(checkpoint_dir) if f.endswith(\".ckpt\")]\n",
    "\n",
    "    # Iterating over all checkpoints:\n",
    "    data = []\n",
    "    for path in checkpoints:\n",
    "        print(\"-\" * 80)\n",
    "        print(path)\n",
    "        fid.reset()\n",
    "        model = load_checkpoint(path)\n",
    "        with torch.no_grad():\n",
    "            for _ in tqdm(range(40)):\n",
    "                samples = generate_samples(model, batch) * 0.5 + 0.5\n",
    "                fid.update(samples, False)\n",
    "        fidscore = fid.compute().detach().cpu().item()\n",
    "        print(fidscore)\n",
    "\n",
    "        epoch = re.search(r\"epoch=(\\d+)\\.ckpt\", path)\n",
    "\n",
    "        data.append({\n",
    "            \"checkpoint\": path,\n",
    "            \"epoch\": int(epoch.group(1)) if epoch else -1,\n",
    "            \"fid_score\": fidscore\n",
    "        })\n",
    "    df = pd.DataFrame(data)\n",
    "\n",
    "    df = df.sort_values(\"epoch\")\n",
    "\n",
    "    df.to_csv(os.path.join(checkpoint_dir, \"fid_scores.csv\"), index=False)\n",
    "\n",
    "    print(\"\\n\\n\")\n",
    "\n",
    "compute_from_folder(checkpoint_dir)"
   ]
  },
  {
   "cell_type": "markdown",
   "metadata": {},
   "source": [
    "## Now computing FID Scores of the diffusion model."
   ]
  },
  {
   "cell_type": "code",
   "execution_count": 49,
   "metadata": {},
   "outputs": [],
   "source": [
    "diff_model = DiffusionModel.load_from_checkpoint(\n",
    "    config[\"unet_checkpoint\"],\n",
    "    model=unet_factory(\n",
    "        img_size=config[\"img_size\"],\n",
    "        img_channels=config[\"num_channels\"],\n",
    "        block_out_channels=config[\"block_out_channels\"],\n",
    "        layers_per_block=config[\"layers_per_block\"]\n",
    "    ),\n",
    "    optimizer_cls=config[\"optimizer_cls\"],\n",
    "    optimizer_args=config[\"optimizer_args\"],\n",
    "    steps=config[\"ddpm_steps\"],\n",
    "    beta_start=config[\"ddpm_beta_start\"],\n",
    "    beta_end=config[\"ddpm_beta_end\"],\n",
    ").to(\"cuda\")"
   ]
  },
  {
   "cell_type": "code",
   "execution_count": 61,
   "metadata": {},
   "outputs": [
    {
     "name": "stderr",
     "output_type": "stream",
     "text": [
      "100%|██████████| 4/4 [08:12<00:00, 123.21s/it]\n"
     ]
    },
    {
     "name": "stdout",
     "output_type": "stream",
     "text": [
      "tensor(120.7927, device='cuda:0')\n"
     ]
    }
   ],
   "source": [
    "with torch.no_grad():\n",
    "    fid.reset()\n",
    "    for i in tqdm(range(4)):\n",
    "        # Just found out I fucked up when I plotted the images: outputs had a\n",
    "        # range from -2 to 2 rather than -1 to 1. Must have accidentally scaled\n",
    "        # twice during training or something..\n",
    "        samples = diff_model.sample_img((64, 3, 32, 32)).clamp(-2, 2) * 0.25 + 0.5\n",
    "        fid.update(samples, False)\n",
    "    print(fid.compute())"
   ]
  },
  {
   "cell_type": "markdown",
   "metadata": {},
   "source": [
    "## Plotting FID scores over time"
   ]
  },
  {
   "cell_type": "code",
   "execution_count": 51,
   "metadata": {},
   "outputs": [],
   "source": [
    "# New imports so I don't need to run all the other ones just for this step\n",
    "import matplotlib.pyplot as plt\n",
    "import pandas as pd"
   ]
  },
  {
   "cell_type": "code",
   "execution_count": 52,
   "metadata": {},
   "outputs": [],
   "source": [
    "df_experiment_01 = pd.read_csv(\"experiment_01_fid_scores.csv\")\n",
    "df_experiment_02B = pd.read_csv(\"experiment_02B_fid_scores.csv\")"
   ]
  },
  {
   "cell_type": "code",
   "execution_count": 62,
   "metadata": {},
   "outputs": [
    {
     "data": {
      "image/png": "[encoded data removed]",
      "text/plain": [
       "<Figure size 500x500 with 1 Axes>"
      ]
     },
     "metadata": {},
     "output_type": "display_data"
    }
   ],
   "source": [
    "plt.style.use('fivethirtyeight')\n",
    "\n",
    "plt.figure(figsize=(5,5))\n",
    "\n",
    "plt.plot(df_experiment_01[\"epoch\"], df_experiment_01[\"fid_score\"], label=\"wgan (random initialization)\")\n",
    "plt.plot(df_experiment_02B[\"epoch\"], df_experiment_02B[\"fid_score\"], label=\"wgan (from pre-trained ddpm)\")\n",
    "plt.hlines([120.7927], 0, max(df_experiment_01[\"epoch\"].max(), df_experiment_02B[\"epoch\"].max()), label=\"diffusion baseline\", color=\"black\", linestyles=\"dashed\")\n",
    "\n",
    "plt.ylim(0, 300)\n",
    "# plt.grid()\n",
    "\n",
    "plt.legend()\n",
    "plt.xlabel(\"Training epochs\")\n",
    "plt.ylabel(\"FID-score\")\n",
    "\n",
    "plt.tight_layout()\n",
    "\n",
    "plt.show()"
   ]
  }
 ],
 "metadata": {
  "kernelspec": {
   "display_name": "pytorch_base",
   "language": "python",
   "name": "python3"
  },
  "language_info": {
   "codemirror_mode": {
    "name": "ipython",
    "version": 3
   },
   "file_extension": ".py",
   "mimetype": "text/x-python",
   "name": "python",
   "nbconvert_exporter": "python",
   "pygments_lexer": "ipython3",
   "version": "3.12.8"
  }
 },
 "nbformat": 4,
 "nbformat_minor": 2
}
