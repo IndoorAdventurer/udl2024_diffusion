{
 "cells": [
  {
   "cell_type": "markdown",
   "metadata": {},
   "source": [
    "# Experiment 00 Pure Diffusion\n",
    "The first out of 3 related experiments. Here, I (pre-)train a diffusion model.\n",
    "\n",
    "After this, I will use this model in experiment 3 as base-model to fine-tune with\n",
    "a GAN-based optimization target."
   ]
  },
  {
   "cell_type": "code",
   "execution_count": null,
   "metadata": {},
   "outputs": [],
   "source": [
    "# imports\n",
    "\n",
    "# pretend we are in the root folder:\n",
    "import os\n",
    "import sys\n",
    "sys.path.append(\"../\")\n",
    "\n",
    "from udl_2024_package.nn import unet_factory\n",
    "from udl_2024_package.diffusion import DiffusionModel\n",
    "from udl_2024_package.datasets import remove_dataset_labels, default_img_transforms\n",
    "\n",
    "import torch\n",
    "from torchvision import datasets\n",
    "from torch.utils.data import DataLoader\n",
    "\n",
    "import lightning as L\n",
    "from lightning.pytorch.loggers import WandbLogger\n",
    "from lightning.pytorch.callbacks import ModelCheckpoint\n",
    "import wandb\n"
   ]
  },
  {
   "cell_type": "markdown",
   "metadata": {},
   "source": [
    "Experiment configuration and hyper-parameters:"
   ]
  },
  {
   "cell_type": "code",
   "execution_count": null,
   "metadata": {},
   "outputs": [],
   "source": [
    "# WandB config:\n",
    "project_name = \"udl_2025_diffusion_gan\"\n",
    "group_name = \"experiment_00_pure_diffusion\"\n",
    "\n",
    "config = {\n",
    "    # Input data and training:\n",
    "    \"batch_size\": 256,          # Warning: change to 256 for real run\n",
    "    \n",
    "    \"dataset_cls\": datasets.CIFAR10,\n",
    "        \"ds_name\": \"cifar10\",   # Warning: change when changing dataset\n",
    "        \"num_channels\": 3,      # Warning: change when changing dataset\n",
    "        \"img_size\": 32,         # Warning: change when changing dataset\n",
    "        \"extra_transforms\": [], # Warning: change when changing dataset\n",
    "\n",
    "    # \"dataset_cls\": datasets.MNIST,\n",
    "    #     \"ds_name\": \"mnist\",     # Warning: change when changing dataset\n",
    "    #     \"num_channels\": 1,      # Warning: change when changing dataset\n",
    "    #     \"img_size\": 32,         # Warning: change when changing dataset\n",
    "    #     \"extra_transforms\": [   # Warning: change when changing dataset\n",
    "    #         transforms.Resize(32)\n",
    "    #     ],\n",
    "    \n",
    "    \"max_epochs\": 150,\n",
    "    \"dl_num_workers\": 4,\n",
    "\n",
    "    # Diffusion model (DDPM paper defaults):\n",
    "    \"optimizer_cls\": torch.optim.Adam,\n",
    "    \"optimizer_args\": {\"lr\": 2e-4},\n",
    "    \"ddpm_steps\": 1000,\n",
    "    \"ddpm_beta_start\": 0.0001,\n",
    "    \"ddpm_beta_end\": 0.02,\n",
    "\n",
    "    # U-Net config:\n",
    "    \"block_out_channels\": [128, 256, 256, 256],\n",
    "    \"layers_per_block\": 2\n",
    "}\n",
    "\n",
    "datasets_path = os.path.join(os.environ.get(\"TMPDIR\", os.curdir), \"datasets\")\n",
    "\n",
    "dataloader_kwargs = {\n",
    "    \"batch_size\": config[\"batch_size\"],\n",
    "    \"shuffle\": True,\n",
    "    \"num_workers\": config[\"dl_num_workers\"],\n",
    "    \"pin_memory\": True,\n",
    "}"
   ]
  },
  {
   "cell_type": "markdown",
   "metadata": {},
   "source": [
    "Getting the dataloaders"
   ]
  },
  {
   "cell_type": "code",
   "execution_count": null,
   "metadata": {},
   "outputs": [],
   "source": [
    "ds_transforms = default_img_transforms(config[\"num_channels\"])\n",
    "\n",
    "train_ds = config[\"dataset_cls\"](datasets_path, transform=ds_transforms, download=True, train=True)\n",
    "val_ds   = config[\"dataset_cls\"](datasets_path, transform=ds_transforms, download=True, train=False)\n",
    "\n",
    "train_ds = remove_dataset_labels(train_ds)\n",
    "val_ds   = remove_dataset_labels(val_ds)\n",
    "\n",
    "train_dl = DataLoader(train_ds, **dataloader_kwargs)\n",
    "val_dl   = DataLoader(val_ds, **dataloader_kwargs)"
   ]
  },
  {
   "cell_type": "markdown",
   "metadata": {},
   "source": [
    "Setting up WandB"
   ]
  },
  {
   "cell_type": "code",
   "execution_count": null,
   "metadata": {},
   "outputs": [],
   "source": [
    "run = wandb.init(\n",
    "    project=project_name,\n",
    "    group=group_name,\n",
    "    config=config,\n",
    ")\n",
    "\n",
    "wandb_logger = WandbLogger(\n",
    "    experiment=run,\n",
    ")"
   ]
  },
  {
   "cell_type": "markdown",
   "metadata": {},
   "source": [
    "Lightning Callback functions"
   ]
  },
  {
   "cell_type": "code",
   "execution_count": null,
   "metadata": {},
   "outputs": [],
   "source": [
    "checkpoint_callback = ModelCheckpoint(\n",
    "    dirpath=f\"{group_name}_models\",\n",
    "    filename=f\"{config['ds_name']}_{run.name}_epoch{{epoch}}\",\n",
    "    every_n_epochs=5,\n",
    "    save_top_k=-1\n",
    ")\n",
    "\n",
    "class LogImageSample(L.Callback):\n",
    "    \"\"\"Logs a batch of 4 images to WandB.\"\"\"\n",
    "\n",
    "    def __init__(self, logger: WandbLogger, config: dict[str, any]):\n",
    "        super().__init__()\n",
    "        self.logger = logger\n",
    "        self.channels = config[\"num_channels\"]\n",
    "        self.img_size = config[\"img_size\"]\n",
    "    \n",
    "    def on_validation_end(self, trainer, pl_module: DiffusionModel):\n",
    "        sample = pl_module.sample_img(\n",
    "            (4, self.channels, self.img_size, self.img_size))\n",
    "        sample = sample.detach().cpu() * 0.5 + 0.5\n",
    "        self.logger.log_image(\n",
    "            key=\"generated images\",\n",
    "            images=[img for img in sample]\n",
    "        )\n",
    "\n",
    "log_img_callback = LogImageSample(wandb_logger, config)"
   ]
  },
  {
   "cell_type": "markdown",
   "metadata": {},
   "source": [
    "Setting up the model and the trainer"
   ]
  },
  {
   "cell_type": "code",
   "execution_count": null,
   "metadata": {},
   "outputs": [],
   "source": [
    "unet = unet_factory(\n",
    "    img_size=config[\"img_size\"],\n",
    "    img_channels=config[\"num_channels\"],\n",
    "    block_out_channels=config[\"block_out_channels\"],\n",
    "    layers_per_block=config[\"layers_per_block\"]\n",
    ")\n",
    "\n",
    "model = DiffusionModel(\n",
    "    unet,\n",
    "    optimizer_cls=config[\"optimizer_cls\"],\n",
    "    optimizer_args=config[\"optimizer_args\"],\n",
    "    steps=config[\"ddpm_steps\"],\n",
    "    beta_start=config[\"ddpm_beta_start\"],\n",
    "    beta_end=config[\"ddpm_beta_end\"],\n",
    ")\n",
    "\n",
    "trainer = L.Trainer(\n",
    "    max_epochs=config[\"max_epochs\"],\n",
    "    logger=wandb_logger,\n",
    "    callbacks=[\n",
    "        checkpoint_callback,\n",
    "        log_img_callback\n",
    "    ],\n",
    ")"
   ]
  },
  {
   "cell_type": "markdown",
   "metadata": {},
   "source": [
    "Doing the actual training run"
   ]
  },
  {
   "cell_type": "code",
   "execution_count": null,
   "metadata": {},
   "outputs": [],
   "source": [
    "trainer.fit(model, train_dl, val_dl)"
   ]
  }
 ],
 "metadata": {
  "kernelspec": {
   "display_name": "pytorch_base",
   "language": "python",
   "name": "python3"
  },
  "language_info": {
   "codemirror_mode": {
    "name": "ipython",
    "version": 3
   },
   "file_extension": ".py",
   "mimetype": "text/x-python",
   "name": "python",
   "nbconvert_exporter": "python",
   "pygments_lexer": "ipython3",
   "version": "3.12.8"
  }
 },
 "nbformat": 4,
 "nbformat_minor": 4
}
