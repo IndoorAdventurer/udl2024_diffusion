{
 "cells": [
  {
   "cell_type": "code",
   "execution_count": null,
   "metadata": {},
   "outputs": [
    {
     "name": "stderr",
     "output_type": "stream",
     "text": [
      "/home/vincent/miniforge3/envs/pytorch_base/lib/python3.12/site-packages/tqdm/auto.py:21: TqdmWarning: IProgress not found. Please update jupyter and ipywidgets. See https://ipywidgets.readthedocs.io/en/stable/user_install.html\n",
      "  from .autonotebook import tqdm as notebook_tqdm\n"
     ]
    }
   ],
   "source": [
    "# imports\n",
    "\n",
    "# pretend we are in the root folder:\n",
    "import sys\n",
    "sys.path.append(\"../\")\n",
    "\n",
    "from udl_2024_package.datasets import remove_dataset_labels, default_img_transforms\n",
    "from udl_2024_package.nn import unet_factory, discriminator_factory\n",
    "from udl_2024_package.vincent_diffusion import DiffusionModel\n",
    "\n",
    "import torch\n",
    "from torch.utils.data import DataLoader\n",
    "from torchvision.datasets import CIFAR10, MNIST\n",
    "\n",
    "import lightning as L"
   ]
  },
  {
   "cell_type": "code",
   "execution_count": 3,
   "metadata": {},
   "outputs": [],
   "source": [
    "# Creating the datasets:\n",
    "# TODO: test if this also works with MNIST\n",
    "# trainset, testset = dataset_factory(MNIST)\n",
    "dataset_path = \"./datasets\"\n",
    "trainset = remove_dataset_labels(MNIST(dataset_path, transform=default_img_transforms(1), train=True, download=True))\n",
    "testset = remove_dataset_labels(MNIST(dataset_path, transform=default_img_transforms(1), train=False, download=True))\n",
    "\n",
    "batch_size = 32\n",
    "dl_kwargs = {\n",
    "    \"batch_size\": batch_size, \"shuffle\": True, \"num_workers\": 4, \"pin_memory\": True,\n",
    "}\n",
    "\n",
    "trainloader = DataLoader(\n",
    "    trainset, **dl_kwargs\n",
    ")\n",
    "testloader = DataLoader(\n",
    "    testset, **dl_kwargs\n",
    ")\n",
    "\n",
    "batch = next(iter(trainloader))"
   ]
  },
  {
   "cell_type": "code",
   "execution_count": null,
   "metadata": {},
   "outputs": [
    {
     "name": "stdout",
     "output_type": "stream",
     "text": [
      "35_746_307\n"
     ]
    }
   ],
   "source": [
    "unet = unet_factory(28, 1)\n",
    "print(f\"{sum(p.numel() for p in unet.parameters() if p.requires_grad):_}\")"
   ]
  },
  {
   "cell_type": "code",
   "execution_count": 15,
   "metadata": {},
   "outputs": [
    {
     "data": {
      "text/plain": [
       "torch.Size([32, 3, 32, 32])"
      ]
     },
     "execution_count": 15,
     "metadata": {},
     "output_type": "execute_result"
    }
   ],
   "source": [
    "noise = torch.randn_like(batch)\n",
    "ts = torch.full((len(batch),), 999, device=batch.device)\n",
    "unet(noise, ts).shape"
   ]
  },
  {
   "cell_type": "code",
   "execution_count": 5,
   "metadata": {},
   "outputs": [
    {
     "name": "stdout",
     "output_type": "stream",
     "text": [
      "21_285_185\n"
     ]
    }
   ],
   "source": [
    "discriminator = discriminator_factory(3)\n",
    "print(f\"{sum(p.numel() for p in discriminator.parameters() if p.requires_grad):_}\")"
   ]
  },
  {
   "cell_type": "code",
   "execution_count": null,
   "metadata": {},
   "outputs": [
    {
     "name": "stderr",
     "output_type": "stream",
     "text": [
      "GPU available: True (cuda), used: True\n",
      "TPU available: False, using: 0 TPU cores\n",
      "HPU available: False, using: 0 HPUs\n",
      "You are using a CUDA device ('NVIDIA GeForce RTX 3060 Laptop GPU') that has Tensor Cores. To properly utilize them, you should set `torch.set_float32_matmul_precision('medium' | 'high')` which will trade-off precision for performance. For more details, read https://pytorch.org/docs/stable/generated/torch.set_float32_matmul_precision.html#torch.set_float32_matmul_precision\n",
      "LOCAL_RANK: 0 - CUDA_VISIBLE_DEVICES: [0]\n",
      "\n",
      "  | Name | Type          | Params | Mode \n",
      "-----------------------------------------------\n",
      "0 | gen  | DiffusersUnet | 35.7 M | train\n",
      "1 | cri  | ResNet        | 21.3 M | train\n",
      "-----------------------------------------------\n",
      "57.0 M    Trainable params\n",
      "0         Non-trainable params\n",
      "57.0 M    Total params\n",
      "228.126   Total estimated model params size (MB)\n",
      "382       Modules in train mode\n",
      "0         Modules in eval mode\n"
     ]
    },
    {
     "name": "stdout",
     "output_type": "stream",
     "text": [
      "Epoch 0:   0%|          | 0/1563 [00:00<?, ?it/s] "
     ]
    },
    {
     "name": "stderr",
     "output_type": "stream",
     "text": [
      "/home/vincent/miniforge3/envs/pytorch_base/lib/python3.12/site-packages/torch/autograd/graph.py:823: UserWarning: Attempting to run cuBLAS, but there was no current CUDA context! Attempting to set the primary context... (Triggered internally at /pytorch/aten/src/ATen/cuda/CublasHandlePool.cpp:180.)\n",
      "  return Variable._execution_engine.run_backward(  # Calls into the C++ engine to run the backward pass\n"
     ]
    },
    {
     "name": "stdout",
     "output_type": "stream",
     "text": [
      "Epoch 0: 100%|██████████| 1563/1563 [04:59<00:00,  5.22it/s, train/loss_critic=-0.672, train/loss_generator=0.171]   "
     ]
    },
    {
     "name": "stderr",
     "output_type": "stream",
     "text": [
      "`Trainer.fit` stopped: `max_epochs=1` reached.\n"
     ]
    },
    {
     "name": "stdout",
     "output_type": "stream",
     "text": [
      "Epoch 0: 100%|██████████| 1563/1563 [04:59<00:00,  5.22it/s, train/loss_critic=-0.672, train/loss_generator=0.171]\n"
     ]
    }
   ],
   "source": [
    "from torch import nn\n",
    "from udl_2024_package.vincent_wgan import WGANWithGradientPenaltyFuncs\n",
    "\n",
    "class WGANWithGradientPenalty(L.LightningModule):\n",
    "    \"\"\"Wasserstein Gan that uses Gradient Penalty instead of weight clipping.\"\"\"\n",
    "\n",
    "    def __init__(\n",
    "            self,\n",
    "            generator: nn.Module,\n",
    "            critic: nn.Module,\n",
    "            generator_func,\n",
    "            gp_weight: float = 10,\n",
    "            critic_iterations: int = 5,\n",
    "            optimizer_cls: type[torch.optim.Optimizer] = torch.optim.Adam,\n",
    "            optimizer_args: dict = {\"lr\": 1e-4, \"betas\": (0.5, 0.99)}\n",
    "    ):\n",
    "        \"\"\"\n",
    "        Args:\n",
    "            generator: the generator model for the WGAN\n",
    "            critic: the critic model for the WGAN. Outputs single scalar value\n",
    "            generator_func: function `generator_func(generator, batch)` that\n",
    "                takes the generator and a batch (to get right shape) as input\n",
    "                and outputs generated images.\n",
    "            gp_weight: gradient penalty weight. See `WGANWithGradientPenaltyFuncs`\n",
    "            critic_iterations: See `WGANWithGradientPenaltyFuncs`\n",
    "            optimizer_cls: e.g. Adam\n",
    "            optimizer_args: dict of args to give to optimizer (excluding\n",
    "                model params, of course)\n",
    "        \"\"\"\n",
    "        super().__init__()\n",
    "        self.gen = generator\n",
    "        self.cri = critic\n",
    "        self.gen_func = generator_func\n",
    "        self.wgan_funcs = WGANWithGradientPenaltyFuncs(gp_weight, critic_iterations)\n",
    "        self.optimizer_cls = optimizer_cls\n",
    "        self.optimizer_args = optimizer_args\n",
    "\n",
    "        self.automatic_optimization = False\n",
    "    \n",
    "    def forward(self, x):\n",
    "        return self.gen(x)\n",
    "\n",
    "    def training_step(self, batch, batch_idx):\n",
    "        opt_g, opt_c = self.optimizers()\n",
    "\n",
    "        self.toggle_optimizer(opt_c)\n",
    "\n",
    "        # Creating fake images\n",
    "        with torch.no_grad():\n",
    "            # noise = torch.randn((batch.shape[0], 100, 1, 1), device=self.device)\n",
    "            fake_imgs = self.gen_func(self.gen, batch)\n",
    "        \n",
    "        loss_critic = self.wgan_funcs.critic_loss(self.cri, batch, fake_imgs)\n",
    "\n",
    "        # Weight update:\n",
    "        opt_c.zero_grad()\n",
    "        self.manual_backward(loss_critic)\n",
    "        opt_c.step()\n",
    "        self.log(\"train/loss_critic\", loss_critic, prog_bar=True)\n",
    "\n",
    "        self.untoggle_optimizer(opt_c) # not really sure if needed but well..\n",
    "        \n",
    "        also_train_generator = self.wgan_funcs.also_train_generator(batch_idx)\n",
    "\n",
    "        if also_train_generator:\n",
    "            self.toggle_optimizer(opt_g)\n",
    "\n",
    "            # Generate images:\n",
    "            fake_imgs = self.gen_func(self.gen, batch)\n",
    "            loss_gen = self.wgan_funcs.generator_loss(self.cri, fake_imgs)\n",
    "\n",
    "            # Weight update:\n",
    "            opt_g.zero_grad()\n",
    "            self.manual_backward(loss_gen)\n",
    "            opt_g.step()\n",
    "            \n",
    "            self.log(\"train/loss_generator\", loss_gen, prog_bar=True)\n",
    "\n",
    "            self.untoggle_optimizer(opt_g)\n",
    "    \n",
    "    def configure_optimizers(self):\n",
    "        opt_g = self.optimizer_cls(self.gen.parameters(), **self.optimizer_args)\n",
    "        opt_c = self.optimizer_cls(self.cri.parameters(), **self.optimizer_args)\n",
    "        return opt_g, opt_c\n",
    "\n",
    "img_size = (32,32,3)\n",
    "\n",
    "def generate_samples(generator, real_batch):\n",
    "    noise = torch.randn_like(real_batch)\n",
    "    ts = torch.full((len(real_batch),), 999, device=real_batch.device)\n",
    "    return generator(noise, ts)\n",
    "\n",
    "wgan = WGANWithGradientPenalty(\n",
    "    unet,\n",
    "    discriminator,\n",
    "    generate_samples\n",
    ")\n",
    "\n",
    "# Experiment\n",
    "trainer = L.Trainer(\n",
    "    max_time={\"minutes\": 5},\n",
    "    max_epochs=1,\n",
    "    # max_steps=100,\n",
    "    enable_checkpointing=False,\n",
    "    logger=False,\n",
    "    enable_progress_bar=True,\n",
    "    # accelerator=\"cpu\",\n",
    "    # fast_dev_run=True\n",
    ")\n",
    "\n",
    "trainer.fit(wgan, trainloader)"
   ]
  },
  {
   "cell_type": "code",
   "execution_count": 20,
   "metadata": {},
   "outputs": [],
   "source": [
    "samples = generate_samples(unet, torch.zeros((4, 3, 32, 32)))"
   ]
  },
  {
   "cell_type": "code",
   "execution_count": 25,
   "metadata": {},
   "outputs": [
    {
     "name": "stderr",
     "output_type": "stream",
     "text": [
      "Clipping input data to the valid range for imshow with RGB data ([0..1] for floats or [0..255] for integers). Got range [-0.4879492..1.0547022].\n"
     ]
    },
    {
     "data": {
      "text/plain": [
       "<matplotlib.image.AxesImage at 0x7444c9e5a300>"
      ]
     },
     "execution_count": 25,
     "metadata": {},
     "output_type": "execute_result"
    },
    {
     "data": {
      "image/png": "[encoded data removed]",
      "text/plain": [
       "<Figure size 640x480 with 1 Axes>"
      ]
     },
     "metadata": {},
     "output_type": "display_data"
    }
   ],
   "source": [
    "import matplotlib.pyplot as plt\n",
    "plt.imshow(samples[3].detach().transpose(0,2) * 0.5 + 0.5)"
   ]
  }
 ],
 "metadata": {
  "kernelspec": {
   "display_name": "pytorch_base",
   "language": "python",
   "name": "python3"
  },
  "language_info": {
   "codemirror_mode": {
    "name": "ipython",
    "version": 3
   },
   "file_extension": ".py",
   "mimetype": "text/x-python",
   "name": "python",
   "nbconvert_exporter": "python",
   "pygments_lexer": "ipython3",
   "version": "3.12.8"
  }
 },
 "nbformat": 4,
 "nbformat_minor": 2
}
