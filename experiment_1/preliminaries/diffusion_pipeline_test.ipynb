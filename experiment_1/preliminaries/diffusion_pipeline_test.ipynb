{
 "cells": [
  {
   "cell_type": "markdown",
   "metadata": {},
   "source": [
    "# Initial Training\n",
    "Borrowing a model I know works to verify my training pipeline.\n",
    "\n",
    "In this notebook, I train a model on a single image to see if it will learn to\n",
    "generate it from random noise after training.\n",
    "\n",
    "Spoiler: yes it works. See last cell for an example."
   ]
  },
  {
   "cell_type": "code",
   "execution_count": 1,
   "metadata": {},
   "outputs": [
    {
     "data": {
      "text/plain": [
       "<torch._C.Generator at 0x791d997f7410>"
      ]
     },
     "execution_count": 1,
     "metadata": {},
     "output_type": "execute_result"
    }
   ],
   "source": [
    "import sys\n",
    "sys.path.append(\"../\")\n",
    "\n",
    "from udl_module.nn import DiffusionNoiser\n",
    "\n",
    "import lightning as L\n",
    "import torch\n",
    "from torch import nn\n",
    "\n",
    "from torchvision import transforms\n",
    "from PIL import Image\n",
    "\n",
    "import math\n",
    "import matplotlib.pyplot as plt\n",
    "\n",
    "seed = 1967\n",
    "torch.manual_seed(seed)"
   ]
  },
  {
   "cell_type": "markdown",
   "metadata": {},
   "source": [
    "## Model from a tutorial\n",
    "I will use the model from [this tutorial](https://github.com/Jackson-Kang/Pytorch-Diffusion-Model-Tutorial/blob/main/01_denoising_diffusion_probabilistic_model.ipynb) as a baseline, because I can't yet be sure if the U-Net I defined actually is sound."
   ]
  },
  {
   "cell_type": "markdown",
   "metadata": {},
   "source": [
    "Sinusoidal embedding for diffusion timestep"
   ]
  },
  {
   "cell_type": "code",
   "execution_count": 2,
   "metadata": {},
   "outputs": [],
   "source": [
    "class SinusoidalPosEmb(nn.Module):\n",
    "    def __init__(self, dim):\n",
    "        super().__init__()\n",
    "        self.dim = dim\n",
    "\n",
    "    def forward(self, x):\n",
    "        device = x.device\n",
    "        half_dim = self.dim // 2\n",
    "        emb = math.log(10000) / (half_dim - 1)\n",
    "        emb = torch.exp(torch.arange(half_dim, device=device) * -emb)\n",
    "        emb = x[:, None] * emb[None, :]\n",
    "        emb = torch.cat((emb.sin(), emb.cos()), dim=-1)\n",
    "        return emb"
   ]
  },
  {
   "cell_type": "markdown",
   "metadata": {},
   "source": [
    "In this tutorial, we use a simple stacked-convolution model with various dilations instead of UNet-like architecture."
   ]
  },
  {
   "cell_type": "code",
   "execution_count": 3,
   "metadata": {},
   "outputs": [],
   "source": [
    "class ConvBlock(nn.Conv2d):\n",
    "    \"\"\"\n",
    "        Conv2D Block\n",
    "            Args:\n",
    "                x: (N, C_in, H, W)\n",
    "            Returns:\n",
    "                y: (N, C_out, H, W)\n",
    "    \"\"\"\n",
    "\n",
    "    def __init__(self, in_channels, out_channels, kernel_size, activation_fn=None, drop_rate=0.,\n",
    "                    stride=1, padding='same', dilation=1, groups=1, bias=True, gn=False, gn_groups=8):\n",
    "        \n",
    "        if padding == 'same':\n",
    "            padding = kernel_size // 2 * dilation\n",
    "\n",
    "        super(ConvBlock, self).__init__(in_channels, out_channels, kernel_size,\n",
    "                                            stride=stride, padding=padding, dilation=dilation,\n",
    "                                            groups=groups, bias=bias)\n",
    "\n",
    "        self.activation_fn = nn.SiLU() if activation_fn else None\n",
    "        self.group_norm = nn.GroupNorm(gn_groups, out_channels) if gn else None\n",
    "        \n",
    "    def forward(self, x, time_embedding=None, residual=False):\n",
    "        \n",
    "        if residual:\n",
    "            # in the paper, diffusion timestep embedding was only applied to residual blocks of U-Net\n",
    "            x = x + time_embedding\n",
    "            y = x\n",
    "            x = super(ConvBlock, self).forward(x)\n",
    "            y = y + x\n",
    "        else:\n",
    "            y = super(ConvBlock, self).forward(x)\n",
    "        y = self.group_norm(y) if self.group_norm is not None else y\n",
    "        y = self.activation_fn(y) if self.activation_fn is not None else y\n",
    "        \n",
    "        return y"
   ]
  },
  {
   "cell_type": "code",
   "execution_count": 4,
   "metadata": {},
   "outputs": [],
   "source": [
    "class Denoiser(nn.Module):\n",
    "    \n",
    "    def __init__(self, image_resolution, hidden_dims=[256, 256], diffusion_time_embedding_dim = 256, n_times=1000):\n",
    "        super(Denoiser, self).__init__()\n",
    "        \n",
    "        _, _, img_C = image_resolution\n",
    "        \n",
    "        self.time_embedding = SinusoidalPosEmb(diffusion_time_embedding_dim)\n",
    "        \n",
    "        self.in_project = ConvBlock(img_C, hidden_dims[0], kernel_size=7)\n",
    "        \n",
    "        self.time_project = nn.Sequential(\n",
    "                                 ConvBlock(diffusion_time_embedding_dim, hidden_dims[0], kernel_size=1, activation_fn=True),\n",
    "                                 ConvBlock(hidden_dims[0], hidden_dims[0], kernel_size=1))\n",
    "        \n",
    "        self.convs = nn.ModuleList([ConvBlock(in_channels=hidden_dims[0], out_channels=hidden_dims[0], kernel_size=3)])\n",
    "        \n",
    "        for idx in range(1, len(hidden_dims)):\n",
    "            self.convs.append(ConvBlock(hidden_dims[idx-1], hidden_dims[idx], kernel_size=3, dilation=3**((idx-1)//2),\n",
    "                                                    activation_fn=True, gn=True, gn_groups=8))                                \n",
    "                               \n",
    "        self.out_project = ConvBlock(hidden_dims[-1], out_channels=img_C, kernel_size=3)\n",
    "        \n",
    "        \n",
    "    def forward(self, perturbed_x, diffusion_timestep):\n",
    "        y = perturbed_x\n",
    "        \n",
    "        diffusion_embedding = self.time_embedding(diffusion_timestep)\n",
    "        diffusion_embedding = self.time_project(diffusion_embedding.unsqueeze(-1).unsqueeze(-2))\n",
    "        \n",
    "        y = self.in_project(y)\n",
    "        \n",
    "        for i in range(len(self.convs)):\n",
    "            y = self.convs[i](y, diffusion_embedding, residual = True)\n",
    "            \n",
    "        y = self.out_project(y)\n",
    "            \n",
    "        return y"
   ]
  },
  {
   "cell_type": "markdown",
   "metadata": {},
   "source": [
    "## Getting the dataset\n",
    "Copying this from an earlier experiment I did"
   ]
  },
  {
   "cell_type": "code",
   "execution_count": 5,
   "metadata": {},
   "outputs": [
    {
     "name": "stdout",
     "output_type": "stream",
     "text": [
      "img.shape=torch.Size([3, 32, 32]), img.min()=tensor(-1.), img.max()=tensor(0.9902), img.mean()=tensor(-0.2943)\n"
     ]
    }
   ],
   "source": [
    "# Loading a single image as a torch tensor\n",
    "img_size = 32 # 128\n",
    "img_path = \"slimste_test_image.jpg\"\n",
    "img = Image.open(img_path)\n",
    "img: torch.Tensor = transforms.Compose([\n",
    "    transforms.ToTensor(),\n",
    "    transforms.Resize(img_size),\n",
    "    transforms.CenterCrop(img_size),\n",
    "    transforms.Normalize(mean=[.5, .5, .5], std=[.5, .5, .5])\n",
    "])(img)\n",
    "\n",
    "print(f\"{img.shape=}, {img.min()=}, {img.max()=}, {img.mean()=}\")"
   ]
  },
  {
   "cell_type": "code",
   "execution_count": 6,
   "metadata": {},
   "outputs": [],
   "source": [
    "# Creating a dataset for a single datapoint\n",
    "from torch.utils.data import IterableDataset, DataLoader\n",
    "\n",
    "class SingleImgDataSet(IterableDataset):\n",
    "\n",
    "    def __init__(self, img: torch.Tensor):\n",
    "        super().__init__()\n",
    "        self.img = img\n",
    "    \n",
    "    def __iter__(self):\n",
    "        while True:\n",
    "            yield self.img\n",
    "\n",
    "dataset = SingleImgDataSet(img)\n",
    "dataloader = DataLoader(\n",
    "    dataset, 128, num_workers=4\n",
    ")"
   ]
  },
  {
   "cell_type": "markdown",
   "metadata": {},
   "source": [
    "## Training the model\n",
    "Using PyTorch Lightning to create the training loop"
   ]
  },
  {
   "cell_type": "code",
   "execution_count": 18,
   "metadata": {},
   "outputs": [],
   "source": [
    "class DiffusionModel(L.LightningModule):\n",
    "\n",
    "    def __init__(   self,\n",
    "                    model: nn.Module,\n",
    "                    optimizer_cls: torch.optim.Optimizer = torch.optim.Adam,\n",
    "                    optimizer_args: dict = dict(),\n",
    "                    steps: int = 1000,\n",
    "                    beta_start: float = 1e-4,\n",
    "                    beta_end: float = 0.02\n",
    "                 ):\n",
    "        \"\"\"\n",
    "        Args:\n",
    "            model: the underlying denoising architecture (typically a U-Net). It\n",
    "                should take a batch of noisy images and integer time values as\n",
    "                input to the `forward` method.\n",
    "            optimizer_cls: the class type of the optimizer\n",
    "            optimizer_args: the args (other than params) to give the optimizer\n",
    "                at init.\n",
    "            steps: number of noising steps to use\n",
    "            beta_start: the initial value for beta (linear interpolation)\n",
    "            beta_end: the final value of beta (linear interpolation)\n",
    "        \"\"\"\n",
    "        super().__init__()\n",
    "        self.model = model\n",
    "        self.optimizer_cls = optimizer_cls\n",
    "        self.optimizer_args = optimizer_args\n",
    "        self.noiser = DiffusionNoiser(steps, beta_start, beta_end)\n",
    "    \n",
    "    def forward(self, x, t):\n",
    "        return self.model(x, t)\n",
    "    \n",
    "    def training_step(self, batch, batch_idx):\n",
    "        noise = torch.randn_like(batch)\n",
    "        ts = torch.randint(0, len(self.noiser.betas), (len(batch),), device=batch.device)\n",
    "        noised_img = self.noiser.closed_form_noise(batch, noise, ts)\n",
    "\n",
    "        noise_hat = self.model(noised_img, ts)\n",
    "\n",
    "        loss = nn.functional.mse_loss(noise_hat, noise)\n",
    "        self.log(\"train/mse\", loss, prog_bar=True)\n",
    "        return loss\n",
    "    \n",
    "    def configure_optimizers(self):\n",
    "        return self.optimizer_cls(self.parameters(), *self.optimizer_args)\n",
    "    \n",
    "    @torch.inference_mode()\n",
    "    def sample_img(self, shape: tuple[int]):\n",
    "        \"\"\"Samples from a train diffusion model.\n",
    "        \n",
    "        Args:\n",
    "            shape: the shape of the element or batch [(B x) C x W x H]\n",
    "        \"\"\"\n",
    "        self.eval()\n",
    "        noisy_img = torch.randn(shape, device=self.device)\n",
    "        steps = len(self.noiser.betas)\n",
    "        for idx in reversed(range(steps)):\n",
    "            t = torch.tensor([idx], device=self.device)\n",
    "            predicted_noise = self(noisy_img, t)\n",
    "            new_noise = torch.randn_like(noisy_img)\n",
    "            noisy_img = self.noiser.denoising_step(noisy_img, predicted_noise, t, new_noise)\n",
    "        return noisy_img"
   ]
  },
  {
   "cell_type": "code",
   "execution_count": 19,
   "metadata": {},
   "outputs": [
    {
     "name": "stderr",
     "output_type": "stream",
     "text": [
      "GPU available: True (cuda), used: True\n",
      "TPU available: False, using: 0 TPU cores\n",
      "HPU available: False, using: 0 HPUs\n"
     ]
    }
   ],
   "source": [
    "# Setting up the trainer\n",
    "trainer = L.Trainer(\n",
    "    max_time={\"minutes\": 5},\n",
    "    enable_checkpointing=False,\n",
    "    logger=False,\n",
    "    enable_progress_bar=True\n",
    ")"
   ]
  },
  {
   "cell_type": "code",
   "execution_count": 20,
   "metadata": {},
   "outputs": [],
   "source": [
    "n_layers = 8\n",
    "hidden_dim = 256\n",
    "hidden_dims = [hidden_dim for _ in range(n_layers)]\n",
    "timestep_embedding_dim = 256\n",
    "n_timesteps = 1000\n",
    "beta_minmax=[1e-4, 2e-2]\n",
    "\n",
    "model = Denoiser(image_resolution=(32,32,3),\n",
    "                 hidden_dims=hidden_dims,\n",
    "                 diffusion_time_embedding_dim=timestep_embedding_dim,\n",
    "                 n_times=n_timesteps)\n",
    "\n",
    "# noiser = DiffusionNoiser()\n",
    "\n",
    "diffusion_model = DiffusionModel(model)"
   ]
  },
  {
   "cell_type": "code",
   "execution_count": null,
   "metadata": {},
   "outputs": [],
   "source": [
    "trainer.fit(diffusion_model, dataloader)"
   ]
  },
  {
   "cell_type": "markdown",
   "metadata": {},
   "source": [
    "## Doing inference\n",
    "Seeing how well I can denoise my image with the model, or even generate the\n",
    "image from random noise completely."
   ]
  },
  {
   "cell_type": "code",
   "execution_count": 22,
   "metadata": {},
   "outputs": [],
   "source": [
    "diffusion_model.eval();"
   ]
  },
  {
   "cell_type": "code",
   "execution_count": 23,
   "metadata": {},
   "outputs": [
    {
     "data": {
      "image/png": "[encoded data removed]",
      "text/plain": [
       "<Figure size 640x480 with 1 Axes>"
      ]
     },
     "metadata": {},
     "output_type": "display_data"
    }
   ],
   "source": [
    "def plot_img(img: torch.Tensor):\n",
    "    plt.imshow(img.permute(1, 2, 0) * 0.5 + 0.5)\n",
    "    plt.show()\n",
    "\n",
    "plot_img(img)"
   ]
  },
  {
   "cell_type": "code",
   "execution_count": null,
   "metadata": {},
   "outputs": [
    {
     "name": "stderr",
     "output_type": "stream",
     "text": [
      "Clipping input data to the valid range for imshow with RGB data ([0..1] for floats or [0..255] for integers). Got range [-0.65733385..1.4919568].\n"
     ]
    },
    {
     "data": {
      "image/png": "[encoded data removed]",
      "text/plain": [
       "<Figure size 640x480 with 1 Axes>"
      ]
     },
     "metadata": {},
     "output_type": "display_data"
    },
    {
     "name": "stderr",
     "output_type": "stream",
     "text": [
      "Clipping input data to the valid range for imshow with RGB data ([0..1] for floats or [0..255] for integers). Got range [-0.077798724..1.1650431].\n"
     ]
    },
    {
     "data": {
      "image/png": "[encoded data removed]",
      "text/plain": [
       "<Figure size 640x480 with 1 Axes>"
      ]
     },
     "metadata": {},
     "output_type": "display_data"
    }
   ],
   "source": [
    "with torch.inference_mode():\n",
    "    # Generating a random sample:\n",
    "    t = torch.randint(0, 1000, (1,))\n",
    "    noise = torch.randn_like(img)\n",
    "    noisy_img = diffusion_model.noiser.closed_form_noise(img, noise, t)\n",
    "\n",
    "    # Predicting the noise using our model:\n",
    "    predicted_noise = diffusion_model(noisy_img, t).squeeze()\n",
    "    predicted_img = diffusion_model.noiser.img_from_closed_form_noise(noisy_img, predicted_noise, t)\n",
    "\n",
    "plot_img(noisy_img)\n",
    "plot_img(predicted_img.detach())"
   ]
  },
  {
   "cell_type": "markdown",
   "metadata": {},
   "source": [
    "Now doing a full diffusion run"
   ]
  },
  {
   "cell_type": "code",
   "execution_count": null,
   "metadata": {},
   "outputs": [
    {
     "name": "stderr",
     "output_type": "stream",
     "text": [
      "Clipping input data to the valid range for imshow with RGB data ([0..1] for floats or [0..255] for integers). Got range [0.010926634..1.1118555].\n"
     ]
    },
    {
     "data": {
      "image/png": "[encoded data removed]",
      "text/plain": [
       "<Figure size 640x480 with 1 Axes>"
      ]
     },
     "metadata": {},
     "output_type": "display_data"
    }
   ],
   "source": [
    "diffusion_model.to(\"cuda\")\n",
    "\n",
    "# We trained on one image, so sampling should give us that one image:\n",
    "noisy_img = diffusion_model.sample_img(img.shape)\n",
    "\n",
    "plot_img(noisy_img.squeeze().cpu().detach())"
   ]
  },
  {
   "cell_type": "markdown",
   "metadata": {},
   "source": [
    "## It works! :-)"
   ]
  }
 ],
 "metadata": {
  "kernelspec": {
   "display_name": "pytorch_base",
   "language": "python",
   "name": "python3"
  },
  "language_info": {
   "codemirror_mode": {
    "name": "ipython",
    "version": 3
   },
   "file_extension": ".py",
   "mimetype": "text/x-python",
   "name": "python",
   "nbconvert_exporter": "python",
   "pygments_lexer": "ipython3",
   "version": "3.12.8"
  }
 },
 "nbformat": 4,
 "nbformat_minor": 2
}
