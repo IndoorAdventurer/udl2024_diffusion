{
 "cells": [
  {
   "cell_type": "code",
   "execution_count": 1,
   "metadata": {},
   "outputs": [],
   "source": [
    "# imports\n",
    "\n",
    "# pretend we are in the root folder:\n",
    "import os\n",
    "import sys\n",
    "sys.path.append(\"../\")\n",
    "\n",
    "from udl_2024_package.nn import unet_factory, DiffusionNoiser\n",
    "from udl_2024_package.vincent_diffusion import DiffusionModel\n",
    "from udl_2024_package.datasets import remove_dataset_labels, default_img_transforms\n",
    "\n",
    "import torch\n",
    "from torchvision import datasets\n",
    "from torch.utils.data import DataLoader\n",
    "\n",
    "import lightning as L\n",
    "from lightning.pytorch.loggers import WandbLogger\n",
    "from lightning.pytorch.callbacks import ModelCheckpoint\n",
    "import wandb\n"
   ]
  },
  {
   "cell_type": "code",
   "execution_count": 2,
   "metadata": {},
   "outputs": [],
   "source": [
    "# WandB config:\n",
    "project_name = \"udl_2025_diffusion_gan\"\n",
    "group_name = \"experiment_00_pure_diffusion\"\n",
    "\n",
    "config = {\n",
    "    # Input data and training:\n",
    "    \"batch_size\": 256,          # Warning: change to 256 for real run\n",
    "    \n",
    "    \"dataset_cls\": datasets.CIFAR10,\n",
    "        \"ds_name\": \"cifar10\",   # Warning: change when changing dataset\n",
    "        \"num_channels\": 3,      # Warning: change when changing dataset\n",
    "        \"img_size\": 32,         # Warning: change when changing dataset\n",
    "        \"extra_transforms\": [], # Warning: change when changing dataset\n",
    "\n",
    "    # \"dataset_cls\": datasets.MNIST,\n",
    "    #     \"ds_name\": \"mnist\",     # Warning: change when changing dataset\n",
    "    #     \"num_channels\": 1,      # Warning: change when changing dataset\n",
    "    #     \"img_size\": 32,         # Warning: change when changing dataset\n",
    "    #     \"extra_transforms\": [   # Warning: change when changing dataset\n",
    "    #         transforms.Resize(32)\n",
    "    #     ],\n",
    "    \n",
    "    \"max_epochs\": 150,\n",
    "    \"dl_num_workers\": 4,\n",
    "\n",
    "    # Diffusion model (DDPM paper defaults):\n",
    "    \"optimizer_cls\": torch.optim.Adam,\n",
    "    \"optimizer_args\": {\"lr\": 2e-4},\n",
    "    \"ddpm_steps\": 1000,\n",
    "    \"ddpm_beta_start\": 0.0001,\n",
    "    \"ddpm_beta_end\": 0.02,\n",
    "\n",
    "    # U-Net config:\n",
    "    \"block_out_channels\": [128, 256, 256, 256],\n",
    "    \"layers_per_block\": 2\n",
    "}\n",
    "\n",
    "datasets_path = os.path.join(os.environ.get(\"TMPDIR\", os.curdir), \"datasets\")\n",
    "\n",
    "dataloader_kwargs = {\n",
    "    \"batch_size\": config[\"batch_size\"],\n",
    "    \"shuffle\": True,\n",
    "    \"num_workers\": config[\"dl_num_workers\"],\n",
    "    \"pin_memory\": True,\n",
    "}\n",
    "\n",
    "unet = unet_factory(\n",
    "    img_size=config[\"img_size\"],\n",
    "    img_channels=config[\"num_channels\"],\n",
    "    block_out_channels=config[\"block_out_channels\"],\n",
    "    layers_per_block=config[\"layers_per_block\"]\n",
    ")"
   ]
  },
  {
   "cell_type": "code",
   "execution_count": 3,
   "metadata": {},
   "outputs": [],
   "source": [
    "# Loading last checkpoint:\n",
    "dif_model = DiffusionModel.load_from_checkpoint(\"./cifar10_peachy-totem-7_epochepoch=94.ckpt\",\n",
    "    model=unet,\n",
    "    optimizer_cls=config[\"optimizer_cls\"],\n",
    "    optimizer_args=config[\"optimizer_args\"],\n",
    "    steps=config[\"ddpm_steps\"],\n",
    "    beta_start=config[\"ddpm_beta_start\"],\n",
    "    beta_end=config[\"ddpm_beta_end\"],\n",
    ")\n",
    "# dif_model.to(\"cpu\");"
   ]
  },
  {
   "cell_type": "code",
   "execution_count": 5,
   "metadata": {},
   "outputs": [],
   "source": [
    "import numpy as np\n",
    "torch.manual_seed(1967)\n",
    "np.random.seed(1967)\n",
    "\n",
    "def denoising_step(noiser_self: DiffusionNoiser, img_t, noise_t, t, new_noise):\n",
    "    prev_t = torch.clamp(t - 1, 0)\n",
    "    \n",
    "    beta = noiser_self.reshape(noiser_self.betas[t], img_t)\n",
    "    alpha_bar = noiser_self.reshape(noiser_self.alpha_bars[t], img_t)\n",
    "    alpha_bar_prev = noiser_self.reshape(noiser_self.alpha_bars[prev_t], img_t)\n",
    "\n",
    "    img_0 = noiser_self.img_from_closed_form_noise(img_t, noise_t, t)\n",
    "    # img_0 = img_0.clamp(-1, 1)\n",
    "    \n",
    "    img_0_scalar = torch.sqrt(alpha_bar_prev) * beta / (1 - alpha_bar)\n",
    "    img_t_scalar = torch.sqrt(1 - beta) * (1 - alpha_bar_prev) / (1 - alpha_bar)\n",
    "    mu_t = img_0_scalar * img_0 + img_t_scalar * img_t\n",
    "\n",
    "    variance_t = beta * (1 - alpha_bar_prev) / (1 - alpha_bar)\n",
    "    \n",
    "    return mu_t + torch.sqrt(variance_t) * new_noise\n",
    "\n",
    "@torch.inference_mode()\n",
    "def sample_img(self: DiffusionModel, shape: tuple[int]):\n",
    "    self.eval()\n",
    "    noisy_img = torch.randn(shape, device=self.device)\n",
    "    steps = len(self.noiser.betas)\n",
    "    for idx in reversed(range(steps)):\n",
    "        t = torch.tensor([idx], device=self.device)\n",
    "        predicted_noise = self(noisy_img, t)\n",
    "        new_noise = torch.randn_like(noisy_img)\n",
    "        noisy_img = denoising_step(self.noiser, noisy_img, predicted_noise, t, new_noise)\n",
    "    return noisy_img\n",
    "\n",
    "sample = sample_img(dif_model.to(\"cuda\"), (1, 3, 32, 32))\n"
   ]
  },
  {
   "cell_type": "code",
   "execution_count": 6,
   "metadata": {},
   "outputs": [
    {
     "name": "stderr",
     "output_type": "stream",
     "text": [
      "Clipping input data to the valid range for imshow with RGB data ([0..1] for floats or [0..255] for integers). Got range [-0.4844935..0.92300427].\n"
     ]
    },
    {
     "data": {
      "image/png": "[encoded data removed]",
      "text/plain": [
       "<Figure size 640x480 with 1 Axes>"
      ]
     },
     "metadata": {},
     "output_type": "display_data"
    }
   ],
   "source": [
    "import matplotlib.pyplot as plt\n",
    "plt.imshow(sample[0].detach().transpose(0,2).cpu() * 0.5 + 0.5)\n",
    "plt.show()"
   ]
  },
  {
   "cell_type": "markdown",
   "metadata": {},
   "source": [
    "## Final test\n",
    "I copied the stuff over to the DiffusionNoiser class. Seeing if we get the same\n",
    "output if we just call the sampling function again."
   ]
  },
  {
   "cell_type": "code",
   "execution_count": 4,
   "metadata": {},
   "outputs": [
    {
     "name": "stderr",
     "output_type": "stream",
     "text": [
      "Clipping input data to the valid range for imshow with RGB data ([0..1] for floats or [0..255] for integers). Got range [-0.49082315..0.92217433].\n"
     ]
    },
    {
     "data": {
      "image/png": "[encoded data removed]",
      "text/plain": [
       "<Figure size 640x480 with 1 Axes>"
      ]
     },
     "metadata": {},
     "output_type": "display_data"
    }
   ],
   "source": [
    "dif_model.to(\"cuda\")\n",
    "\n",
    "import numpy as np\n",
    "torch.manual_seed(1967)\n",
    "np.random.seed(1967)\n",
    "\n",
    "sample = dif_model.sample_img((1, 3, 32, 32))\n",
    "\n",
    "import matplotlib.pyplot as plt\n",
    "plt.imshow(sample[0].detach().transpose(0,2).cpu() * 0.5 + 0.5)\n",
    "plt.show()"
   ]
  },
  {
   "cell_type": "markdown",
   "metadata": {},
   "source": [
    "## Stuff below can be ignored\n",
    "There I tested what happens when I use my model with their DDPM pipeline. It\n",
    "creates really nice images! So Now I will work on recreating their algorithm."
   ]
  },
  {
   "cell_type": "code",
   "execution_count": 10,
   "metadata": {},
   "outputs": [
    {
     "data": {
      "application/vnd.jupyter.widget-view+json": {
       "model_id": "823d2f37351b4faca1271aaf83345f2b",
       "version_major": 2,
       "version_minor": 0
      },
      "text/plain": [
       "Loading pipeline components...:   0%|          | 0/2 [00:00<?, ?it/s]"
      ]
     },
     "metadata": {},
     "output_type": "display_data"
    }
   ],
   "source": [
    "from diffusers import DDPMPipeline, UNet2DModel\n",
    "\n",
    "model_id = \"google/ddpm-cifar10-32\"\n",
    "\n",
    "# load model and scheduler\n",
    "ddpm = DDPMPipeline.from_pretrained(model_id)"
   ]
  },
  {
   "cell_type": "code",
   "execution_count": 24,
   "metadata": {},
   "outputs": [],
   "source": [
    "# dif_model.model.__class__.forward = UNet2DModel.forward\n",
    "unet.__class__.forward = UNet2DModel.forward\n",
    "ddpm.unet = unet # dif_model.model"
   ]
  },
  {
   "cell_type": "code",
   "execution_count": 25,
   "metadata": {},
   "outputs": [
    {
     "data": {
      "application/vnd.jupyter.widget-view+json": {
       "model_id": "2728ebe95b8a48178368a68cbf7d9ebd",
       "version_major": 2,
       "version_minor": 0
      },
      "text/plain": [
       "  0%|          | 0/1000 [00:00<?, ?it/s]"
      ]
     },
     "metadata": {},
     "output_type": "display_data"
    }
   ],
   "source": [
    "ddpm.to(\"cuda\")\n",
    "images = ddpm(5).images"
   ]
  },
  {
   "cell_type": "code",
   "execution_count": 26,
   "metadata": {},
   "outputs": [
    {
     "data": {
      "image/jpeg": "[encoded data removed]",
      "image/png": "[encoded data removed]",
      "text/plain": [
       "<PIL.Image.Image image mode=RGB size=32x32>"
      ]
     },
     "execution_count": 26,
     "metadata": {},
     "output_type": "execute_result"
    }
   ],
   "source": [
    "images[0]"
   ]
  }
 ],
 "metadata": {
  "kernelspec": {
   "display_name": "pytorch_base",
   "language": "python",
   "name": "python3"
  },
  "language_info": {
   "codemirror_mode": {
    "name": "ipython",
    "version": 3
   },
   "file_extension": ".py",
   "mimetype": "text/x-python",
   "name": "python",
   "nbconvert_exporter": "python",
   "pygments_lexer": "ipython3",
   "version": "3.12.8"
  }
 },
 "nbformat": 4,
 "nbformat_minor": 2
}
