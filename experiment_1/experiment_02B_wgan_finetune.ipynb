{
 "cells": [
  {
   "cell_type": "markdown",
   "metadata": {},
   "source": [
    "# Experiment 02B WGAN fine-tuning of Diffusion U-Net\n",
    "The last out of 3 related experiments. Here, I fine-tune the U-Net from\n",
    "experiment 00 as if it is a generator in a GAN setup, to see if it converges\n",
    "faster than the GAN in experiment 01."
   ]
  },
  {
   "cell_type": "code",
   "execution_count": null,
   "metadata": {},
   "outputs": [],
   "source": [
    "# imports\n",
    "\n",
    "# pretend we are in the root folder:\n",
    "import os\n",
    "import sys\n",
    "sys.path.append(\"../\")\n",
    "\n",
    "from udl_2024_package.nn import unet_factory, SimpleDiscriminator\n",
    "from udl_2024_package.diffusion import DiffusionModel\n",
    "from udl_2024_package.wgan import WGANWithGradientPenalty\n",
    "from udl_2024_package.datasets import remove_dataset_labels, default_img_transforms\n",
    "\n",
    "import torch\n",
    "from torchvision import datasets\n",
    "from torch.utils.data import DataLoader\n",
    "\n",
    "import lightning as L\n",
    "from lightning.pytorch.loggers import WandbLogger\n",
    "from lightning.pytorch.callbacks import ModelCheckpoint\n",
    "import wandb\n"
   ]
  },
  {
   "cell_type": "markdown",
   "metadata": {},
   "source": [
    "Experiment configuration and hyper-parameters:"
   ]
  },
  {
   "cell_type": "code",
   "execution_count": null,
   "metadata": {},
   "outputs": [],
   "source": [
    "# WandB config:\n",
    "project_name = \"udl_2025_diffusion_gan\"\n",
    "group_name = \"experiment_02b_wgan_finetune\"\n",
    "\n",
    "config = {\n",
    "    # Input data and training:\n",
    "    \"batch_size\": 256,          # Warning: change to 256 for real run\n",
    "    \n",
    "    \"dataset_cls\": datasets.CIFAR10,\n",
    "        \"ds_name\": \"cifar10\",   # Warning: change when changing dataset\n",
    "        \"num_channels\": 3,      # Warning: change when changing dataset\n",
    "        \"img_size\": 32,         # Warning: change when changing dataset\n",
    "        \"extra_transforms\": [], # Warning: change when changing dataset\n",
    "\n",
    "    # \"dataset_cls\": datasets.MNIST,\n",
    "    #     \"ds_name\": \"mnist\",     # Warning: change when changing dataset\n",
    "    #     \"num_channels\": 1,      # Warning: change when changing dataset\n",
    "    #     \"img_size\": 32,         # Warning: change when changing dataset\n",
    "    #     \"extra_transforms\": [   # Warning: change when changing dataset\n",
    "    #         transforms.Resize(32)\n",
    "    #     ],\n",
    "    \n",
    "    \"max_epochs\": 150,\n",
    "    \"dl_num_workers\": 4,\n",
    "\n",
    "    # WGAN model (WGAN-GP paper defaults):\n",
    "    \"optimizer_cls\": torch.optim.Adam,\n",
    "    \"gen_optimizer_args\": { \"lr\": 1e-5, \"betas\": (0.5, 0.99), \"weight_decay\": 1e-5 },\n",
    "    \"cri_optimizer_args\": { \"lr\": 1e-4, \"betas\": (0.5, 0.99) },\n",
    "    \"gp_weight\": 10,\n",
    "    \"critic_iterations\": 5,\n",
    "    \"freeze_gen_upnet\": True,\n",
    "\n",
    "    # DDPM values (not really used, but for loading checkpoint):\n",
    "    \"ddpm_steps\": 1000,\n",
    "    \"ddpm_beta_start\": 0.0001,\n",
    "    \"ddpm_beta_end\": 0.02,\n",
    "\n",
    "    # U-Net config:\n",
    "    \"block_out_channels\": [128, 256, 256, 256],\n",
    "    \"layers_per_block\": 2,\n",
    "\n",
    "    # Starting point for training:\n",
    "    \"unet_checkpoint\": \"./cifar10_peachy-totem-7_epochepoch=94.ckpt\",\n",
    "\n",
    "    # Critic config:\n",
    "    \"cri_channel_list\": [128] * 4,\n",
    "    \"cri_kernel_list\": [3] * 4,\n",
    "    \"cri_downsample_list\": [True] * 2 + [False] * 2\n",
    "}\n",
    "\n",
    "datasets_path = os.path.join(os.environ.get(\"TMPDIR\", os.curdir), \"datasets\")\n",
    "\n",
    "dataloader_kwargs = {\n",
    "    \"batch_size\": config[\"batch_size\"],\n",
    "    \"shuffle\": True,\n",
    "    \"num_workers\": config[\"dl_num_workers\"],\n",
    "    \"pin_memory\": True,\n",
    "}"
   ]
  },
  {
   "cell_type": "markdown",
   "metadata": {},
   "source": [
    "Getting the dataloaders"
   ]
  },
  {
   "cell_type": "code",
   "execution_count": null,
   "metadata": {},
   "outputs": [],
   "source": [
    "ds_transforms = default_img_transforms(config[\"num_channels\"])\n",
    "\n",
    "train_ds = config[\"dataset_cls\"](datasets_path, transform=ds_transforms, download=True, train=True)\n",
    "val_ds   = config[\"dataset_cls\"](datasets_path, transform=ds_transforms, download=True, train=False)\n",
    "\n",
    "train_ds = remove_dataset_labels(train_ds)\n",
    "val_ds   = remove_dataset_labels(val_ds)\n",
    "\n",
    "train_dl = DataLoader(train_ds, **dataloader_kwargs)\n",
    "val_dl   = DataLoader(val_ds, **dataloader_kwargs)"
   ]
  },
  {
   "cell_type": "markdown",
   "metadata": {},
   "source": [
    "Function for generating samples with the WGAN generator. Note that:\n",
    "- It needs to give a time value (`ts`) to the model, because it is actually\n",
    "  meant for diffusion. I always give 999, corresponding to the pure\n",
    "  noise timestep.\n",
    "- In contrast to the variant in notebook 02A, this one is identical to the one\n",
    "  in notebook 01: we treat the model output directly as the generator output.\n",
    "  See 02A for what I tried first, and why it didn't work."
   ]
  },
  {
   "cell_type": "code",
   "execution_count": null,
   "metadata": {},
   "outputs": [],
   "source": [
    "def generate_samples(generator, real_batch):\n",
    "    noise = torch.randn_like(real_batch)\n",
    "    ts = torch.full((len(real_batch),), 999, device=real_batch.device)\n",
    "    return generator(noise, ts)"
   ]
  },
  {
   "cell_type": "markdown",
   "metadata": {},
   "source": [
    "Setting up WandB"
   ]
  },
  {
   "cell_type": "code",
   "execution_count": null,
   "metadata": {},
   "outputs": [],
   "source": [
    "run = wandb.init(\n",
    "    project=project_name,\n",
    "    group=group_name,\n",
    "    config=config,\n",
    "    # mode=\"disabled\" # TODO: remove this!\n",
    ")\n",
    "\n",
    "wandb_logger = WandbLogger(\n",
    "    experiment=run,\n",
    ")"
   ]
  },
  {
   "cell_type": "markdown",
   "metadata": {},
   "source": [
    "Lightning Callback functions"
   ]
  },
  {
   "cell_type": "code",
   "execution_count": null,
   "metadata": {},
   "outputs": [],
   "source": [
    "checkpoint_callback = ModelCheckpoint(\n",
    "    dirpath=f\"{group_name}_models\",\n",
    "    filename=f\"{config['ds_name']}_{run.name}_epoch{{epoch}}\",\n",
    "    every_n_epochs=10,\n",
    "    save_top_k=-1\n",
    ")\n",
    "\n",
    "# Copied from 01, instead of 02A:\n",
    "class LogImageSample(L.Callback):\n",
    "    \"\"\"Logs a batch of 4 images to WandB.\"\"\"\n",
    "\n",
    "    def __init__(self, logger: WandbLogger, config: dict[str, any]):\n",
    "        super().__init__()\n",
    "        batch_size = 6\n",
    "        diffusion_step = 999    # typically the last step for diffusion model\n",
    "        self.logger = logger\n",
    "        self.noise_sample = torch.randn((\n",
    "            batch_size,\n",
    "            config[\"num_channels\"],\n",
    "            config[\"img_size\"],\n",
    "            config[\"img_size\"])\n",
    "        )\n",
    "        self.ts = torch.full((batch_size,), diffusion_step)\n",
    "    \n",
    "    def on_validation_end(self, trainer, pl_module: WGANWithGradientPenalty):\n",
    "        generator = pl_module.gen\n",
    "        if self.noise_sample.device != pl_module.device:\n",
    "            self.noise_sample = self.noise_sample.to(pl_module.device)\n",
    "            self.ts = self.ts.to(pl_module.device)\n",
    "        \n",
    "        sample = generator(self.noise_sample, self.ts)\n",
    "        sample = sample.detach().cpu() * 0.5 + 0.5\n",
    "        self.logger.log_image(\n",
    "            key=\"generated images\",\n",
    "            images=[img for img in sample]\n",
    "        )\n",
    "\n",
    "log_img_callback = LogImageSample(wandb_logger, config)"
   ]
  },
  {
   "cell_type": "markdown",
   "metadata": {},
   "source": [
    "Setting up the models and the trainer"
   ]
  },
  {
   "cell_type": "code",
   "execution_count": null,
   "metadata": {},
   "outputs": [],
   "source": [
    "unet = unet_factory(\n",
    "    img_size=config[\"img_size\"],\n",
    "    img_channels=config[\"num_channels\"],\n",
    "    block_out_channels=config[\"block_out_channels\"],\n",
    "    layers_per_block=config[\"layers_per_block\"]\n",
    ")\n",
    "unet = DiffusionModel.load_from_checkpoint(\n",
    "    config[\"unet_checkpoint\"],\n",
    "    model=unet,\n",
    "    optimizer_cls=config[\"optimizer_cls\"],\n",
    "    optimizer_args=config[\"cri_optimizer_args\"],\n",
    "    steps=config[\"ddpm_steps\"],\n",
    "    beta_start=config[\"ddpm_beta_start\"],\n",
    "    beta_end=config[\"ddpm_beta_end\"],\n",
    ").model\n",
    "\n",
    "# Optionally freeze part of the network\n",
    "if config[\"freeze_gen_upnet\"]:\n",
    "    for param in unet.down_blocks.parameters():\n",
    "        param.requires_grad = False\n",
    "    for param in unet.mid_block.parameters():\n",
    "        param.requires_grad = False\n",
    "\n",
    "critic = SimpleDiscriminator(\n",
    "    in_channels=config[\"num_channels\"],\n",
    "    channel_list=config[\"cri_channel_list\"],\n",
    "    kernel_list=config[\"cri_kernel_list\"],\n",
    "    downsample_list=config[\"cri_downsample_list\"]\n",
    ")\n",
    "\n",
    "model = WGANWithGradientPenalty(\n",
    "    generator=unet,\n",
    "    critic=critic,\n",
    "    generator_func=generate_samples,\n",
    "    optimizer_cls=config[\"optimizer_cls\"],\n",
    "    gen_optimizer_args=config[\"gen_optimizer_args\"],\n",
    "    cri_optimizer_args=config[\"cri_optimizer_args\"],\n",
    "    gp_weight=config[\"gp_weight\"],\n",
    "    critic_iterations=config[\"critic_iterations\"],\n",
    ")\n",
    "\n",
    "wandb_logger.watch(model, log=\"all\", log_freq=500)"
   ]
  },
  {
   "cell_type": "code",
   "execution_count": null,
   "metadata": {},
   "outputs": [],
   "source": [
    "trainer = L.Trainer(\n",
    "    max_epochs=config[\"max_epochs\"],\n",
    "    logger=wandb_logger,\n",
    "    callbacks=[\n",
    "        checkpoint_callback,\n",
    "        log_img_callback\n",
    "    ],\n",
    "    enable_progress_bar=False\n",
    ")"
   ]
  },
  {
   "cell_type": "markdown",
   "metadata": {},
   "source": [
    "Doing the actual training run"
   ]
  },
  {
   "cell_type": "code",
   "execution_count": null,
   "metadata": {},
   "outputs": [],
   "source": [
    "trainer.fit(model, train_dl, val_dl)\n",
    "wandb.finish(0)"
   ]
  }
 ],
 "metadata": {
  "kernelspec": {
   "display_name": "pytorch_base",
   "language": "python",
   "name": "python3"
  },
  "language_info": {
   "codemirror_mode": {
    "name": "ipython",
    "version": 3
   },
   "file_extension": ".py",
   "mimetype": "text/x-python",
   "name": "python",
   "nbconvert_exporter": "python",
   "pygments_lexer": "ipython3",
   "version": "3.12.8"
  }
 },
 "nbformat": 4,
 "nbformat_minor": 4
}
